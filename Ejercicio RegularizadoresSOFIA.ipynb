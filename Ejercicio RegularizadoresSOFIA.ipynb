{
  "nbformat": 4,
  "nbformat_minor": 0,
  "metadata": {
    "kernelspec": {
      "display_name": "Python 3",
      "language": "python",
      "name": "python3"
    },
    "language_info": {
      "codemirror_mode": {
        "name": "ipython",
        "version": 3
      },
      "file_extension": ".py",
      "mimetype": "text/x-python",
      "name": "python",
      "nbconvert_exporter": "python",
      "pygments_lexer": "ipython3",
      "version": "3.8.5"
    },
    "colab": {
      "name": "2_1_Un_primer_vistazo_a_una_Red_Neuronal.ipynb",
      "provenance": [],
      "toc_visible": true,
      "include_colab_link": true
    },
    "accelerator": "GPU",
    "gpuClass": "standard"
  },
  "cells": [
    {
      "cell_type": "markdown",
      "metadata": {
        "id": "view-in-github",
        "colab_type": "text"
      },
      "source": [
        "<a href=\"https://colab.research.google.com/github/Sofia-Angel-Carlon/deeplearning/blob/main/Ejercicio%20RegularizadoresSOFIA.ipynb\" target=\"_parent\"><img src=\"https://colab.research.google.com/assets/colab-badge.svg\" alt=\"Open In Colab\"/></a>"
      ]
    },
    {
      "cell_type": "markdown",
      "metadata": {
        "id": "Ejg7Msp7rbkk"
      },
      "source": [
        "# Ejercicio con regularizadores"
      ]
    },
    {
      "cell_type": "code",
      "source": [
        "%tensorflow_version 2.x\n",
        "import tensorflow as tf\n",
        "from tensorflow import keras\n",
        "print(tf.keras.__version__)\n",
        "print(\"GPU Available:\", tf.config.list_physical_devices('GPU'))\n",
        "print(tf.__version__)\n",
        "from keras.datasets import mnist\n",
        "from keras import models\n",
        "from keras import layers\n",
        "import numpy as np\n",
        "import matplotlib.pyplot as plt\n",
        "from keras import regularizers"
      ],
      "metadata": {
        "id": "BSivef1i532C",
        "colab": {
          "base_uri": "https://localhost:8080/"
        },
        "outputId": "333b76a5-93e5-49d3-b05c-98c66417c550"
      },
      "execution_count": 1,
      "outputs": [
        {
          "output_type": "stream",
          "name": "stdout",
          "text": [
            "Colab only includes TensorFlow 2.x; %tensorflow_version has no effect.\n",
            "2.9.0\n",
            "GPU Available: [PhysicalDevice(name='/physical_device:GPU:0', device_type='GPU')]\n",
            "2.9.2\n"
          ]
        }
      ]
    },
    {
      "cell_type": "code",
      "source": [
        "(train_images, train_labels), (test_images, test_labels) = mnist.load_data() # Descarga los datos de MNIST"
      ],
      "metadata": {
        "id": "3t3R6gU9-wUy"
      },
      "execution_count": 2,
      "outputs": []
    },
    {
      "cell_type": "code",
      "source": [
        "print(train_images.shape)"
      ],
      "metadata": {
        "colab": {
          "base_uri": "https://localhost:8080/"
        },
        "id": "gDJ3pWVK-T6l",
        "outputId": "e302aa2e-ddd7-436f-8968-8164f1b3937a"
      },
      "execution_count": 3,
      "outputs": [
        {
          "output_type": "stream",
          "name": "stdout",
          "text": [
            "(60000, 28, 28)\n"
          ]
        }
      ]
    },
    {
      "cell_type": "code",
      "source": [
        "# Prepara con reshape y normaliza las imágenes tanto de entrenamiento como de test\n",
        "train_images = train_images.reshape(60000, 28*28)\n",
        "test_images = test_images.reshape(10000, 28*28)\n",
        "train_images = train_images.astype('float32') / 255\n",
        "# Imagenes y etiquetas de test.\n",
        "# test_images = test_images.reshape((10000, 28 * 28))\n",
        "test_images = test_images.astype('float32') / 255"
      ],
      "metadata": {
        "id": "H6n5NeSz0U1d"
      },
      "execution_count": 4,
      "outputs": []
    },
    {
      "cell_type": "code",
      "source": [
        "# Crear un subconjunto de imágenes de entrenamiento que llamaré\n",
        "# validation_images, para hacer las validaciones, con las 10000 últimas imágenes \n",
        "# del set de datos de entrenamiento (train_images) (obviamente, lo mismo con las\n",
        "# etiquetas correspondientes -> validation_labels). Deja preparadas las 50K \n",
        "# primeras imágenes y etiquetas para entrenamiento (train_images y train_labels)\n",
        "validation_images=train_images[50000:]  \n",
        "train_images=train_images[:49999]      \n",
        "\n",
        "validation_labels=train_labels[50000:]\n",
        "train_labels=train_labels[:49999]\n",
        "\n",
        "print(validation_images.shape)\n",
        "print(validation_labels.shape)"
      ],
      "metadata": {
        "id": "NKoZGyap0XAj",
        "colab": {
          "base_uri": "https://localhost:8080/"
        },
        "outputId": "480bedc9-f566-490e-859c-b1750fa046a2"
      },
      "execution_count": 5,
      "outputs": [
        {
          "output_type": "stream",
          "name": "stdout",
          "text": [
            "(10000, 784)\n",
            "(10000,)\n"
          ]
        }
      ]
    },
    {
      "cell_type": "code",
      "source": [
        "def crea_modelo(regularizador):\n",
        "  modelo = models.Sequential()\n",
        "  if(regularizador==0):\n",
        "    modelo.add(layers.Dense(512, activation='relu', input_shape=(28*28,)))\n",
        "  elif(regularizador==1):\n",
        "    modelo.add(layers.Dense(512, kernel_regularizer=regularizers.l1(0.001), activation='relu', input_shape=(28*28,)))\n",
        "  elif(regularizador==2):\n",
        "    modelo.add(layers.Dense(512, kernel_regularizer=regularizers.l2(0.001), activation='relu', input_shape=(28*28,)))\n",
        "  elif(regularizador==3):\n",
        "    modelo.add(layers.Dense(512, kernel_regularizer=regularizers.l1_l2(l1=0.001, l2=0.001), activation='relu', input_shape=(28*28,)))\n",
        "  elif(regularizador==4):\n",
        "    modelo.add(layers.Dense(512, activation='relu', input_shape=(28*28,)))\n",
        "    modelo.add(layers.Dropout(0.5))\n",
        "  else:\n",
        "    print(\"Error\")\n",
        "  \n",
        "  modelo.add(layers.Dense(10, activation='softmax'))\n",
        "  modelo.summary()\n",
        "  return modelo\n",
        "\n",
        "  # Define una función que recibe un número del 0 al 4 que creará:\n",
        "  # un modelo secuencial con una capa de entrada densa de 512 neuronas\n",
        "  # con activación relu y la capa de salida que le corresponda según el problema\n",
        "  # Ahora, en función del número del regularizador:\n",
        "  # Si es 0, no mete ningún regularizador\n",
        "  # Si es 1, mete un regularizador de tipo l1 y valor 0.001\n",
        "  # Si es 2, mete un regularizador de tipo l2 y valor 0.001\n",
        "  # Si es 3, mete un regularizador de tipo l1_l2 y valor 0.001 para ambos\n",
        "  # Si es 4, mete un Dropout del 50% después de la primera capa densa\n",
        "  # Si es distinto que estos valores, escribe el error y retorna\n",
        "  # Al final, esta función pinta el summary del modelo y retorna el modelo creado"
      ],
      "metadata": {
        "id": "6JnVLVfsAfkh"
      },
      "execution_count": 6,
      "outputs": []
    },
    {
      "cell_type": "code",
      "source": [
        "def compila_modelo(modelo): \n",
        "  modelo.compile(optimizer='rmsprop', # Optimizador 'rmsprop' (Stocastic Gradient Descendent)\n",
        "                loss='sparse_categorical_crossentropy', # Función de pérdida\n",
        "                metrics=['accuracy']) # Mética de Precisión\n",
        "  return modelo \n",
        "  # Define una función que recibe un modelo, lo compila con un optimizador\n",
        "  # 'rmsprop', con una función de pérdida 'sparse_categorical_crossentropy' y\n",
        "  # una métrica de precisión. La función retorna el modelo"
      ],
      "metadata": {
        "id": "qKyJ8KOT0aFt"
      },
      "execution_count": 7,
      "outputs": []
    },
    {
      "cell_type": "code",
      "source": [
        "def entrena_modelo(modelo):\n",
        "  history = modelo.fit(train_images, train_labels, validation_data=(validation_images, validation_labels), epochs=30, batch_size=128)\n",
        "  return history\n",
        "\n",
        "  # Define una función que entrena el modelo que se le pasa por parámetro,\n",
        "  # con las imágenes y etiquetas de entrenamiento, con 30 iteraciones y 128\n",
        "  # de tamaño de minilote y con el validation_data creado más arriba.\n",
        "  # Esta función devuelve un history"
      ],
      "metadata": {
        "id": "_yQ7SpOt0cBp"
      },
      "execution_count": 8,
      "outputs": []
    },
    {
      "cell_type": "code",
      "source": [
        "def pinta_perdida_entrenamiento_validacion(historia):\n",
        "  history_dict = historia.history\n",
        "  acc = historia.history['accuracy']\n",
        "  val_acc = historia.history['val_accuracy']\n",
        "  loss = historia.history['loss']\n",
        "  val_loss = historia.history['val_loss']\n",
        "  epochs = range(1, len(acc) + 1)\n",
        "  # \"bo\" es para \"punto azun\"\n",
        "  plt.plot(epochs, loss, 'bo', label='Pérdida de Entrenamiento')\n",
        "  # \"b\" es para \"linea continua azul\"\n",
        "  plt.plot(epochs, val_loss, 'b', label='Pérdida de Validación')\n",
        "  plt.title('Pérdida de Entrenamiento y Validación')\n",
        "  plt.xlabel('Epochs')\n",
        "  plt.ylabel('Loss')\n",
        "  plt.legend()\n",
        "  plt.show()"
      ],
      "metadata": {
        "id": "bJrRNc4WwPN2"
      },
      "execution_count": 9,
      "outputs": []
    },
    {
      "cell_type": "code",
      "source": [
        "def pinta_precision_entrenamiento_validacion(historia):\n",
        "  history_dict = historia.history\n",
        "  acc = historia.history['accuracy']\n",
        "  val_acc = historia.history['val_accuracy']\n",
        "  loss = historia.history['loss']\n",
        "  val_loss = historia.history['val_loss']\n",
        "  plt.clf()   # Limpia la figura\n",
        "  acc_values = history_dict['accuracy']\n",
        "  val_acc_values = history_dict['val_accuracy']\n",
        "  epochs = range(1, len(acc) + 1)\n",
        "  plt.plot(epochs, acc, 'bo', label='Precisión de Entrenamiento')\n",
        "  plt.plot(epochs, val_acc, 'b', label='Precisión de Validación')\n",
        "  plt.title('Precisión de Entrenamiento y Valización')\n",
        "  plt.xlabel('Epochs')\n",
        "  plt.ylabel('Loss')\n",
        "  plt.legend()\n",
        "  plt.show()"
      ],
      "metadata": {
        "id": "Mafxp6D3wYQx"
      },
      "execution_count": 10,
      "outputs": []
    },
    {
      "cell_type": "markdown",
      "source": [
        "## Una vez definidas todas las funciones anteriores, ejecuta las siguientes llamadas a dichas funciones y deduce que está pasando y, para este contexto, que es lo que mejor está funcionando"
      ],
      "metadata": {
        "id": "6nnQYysYA3_T"
      }
    },
    {
      "cell_type": "markdown",
      "source": [
        "### Caso 0, sin regularizadores"
      ],
      "metadata": {
        "id": "OrGwDgaFBax4"
      }
    },
    {
      "cell_type": "code",
      "source": [
        "network0 = crea_modelo(0)"
      ],
      "metadata": {
        "id": "uXvhlXg79Zi9",
        "colab": {
          "base_uri": "https://localhost:8080/"
        },
        "outputId": "545064a4-3b18-40e9-d6b4-02eb937a0504"
      },
      "execution_count": 11,
      "outputs": [
        {
          "output_type": "stream",
          "name": "stdout",
          "text": [
            "Model: \"sequential\"\n",
            "_________________________________________________________________\n",
            " Layer (type)                Output Shape              Param #   \n",
            "=================================================================\n",
            " dense (Dense)               (None, 512)               401920    \n",
            "                                                                 \n",
            " dense_1 (Dense)             (None, 10)                5130      \n",
            "                                                                 \n",
            "=================================================================\n",
            "Total params: 407,050\n",
            "Trainable params: 407,050\n",
            "Non-trainable params: 0\n",
            "_________________________________________________________________\n"
          ]
        }
      ]
    },
    {
      "cell_type": "code",
      "source": [
        "network0 = compila_modelo(network0)"
      ],
      "metadata": {
        "id": "Ff0HC3NR9ez8"
      },
      "execution_count": 12,
      "outputs": []
    },
    {
      "cell_type": "code",
      "source": [
        "historia0 = entrena_modelo(network0)"
      ],
      "metadata": {
        "id": "x9zQDOlw9g6V",
        "colab": {
          "base_uri": "https://localhost:8080/"
        },
        "outputId": "b70626c7-caaa-4ea2-89ec-96f60f528ebb"
      },
      "execution_count": 13,
      "outputs": [
        {
          "metadata": {
            "tags": null
          },
          "name": "stdout",
          "output_type": "stream",
          "text": [
            "Epoch 1/30\n",
            "391/391 [==============================] - 3s 6ms/step - loss: 0.2820 - accuracy: 0.9174 - val_loss: 0.1566 - val_accuracy: 0.9541\n",
            "Epoch 2/30\n",
            "391/391 [==============================] - 2s 6ms/step - loss: 0.1164 - accuracy: 0.9650 - val_loss: 0.1032 - val_accuracy: 0.9712\n",
            "Epoch 3/30\n",
            "391/391 [==============================] - 2s 5ms/step - loss: 0.0764 - accuracy: 0.9773 - val_loss: 0.0862 - val_accuracy: 0.9758\n",
            "Epoch 4/30\n",
            "391/391 [==============================] - 2s 6ms/step - loss: 0.0547 - accuracy: 0.9835 - val_loss: 0.0818 - val_accuracy: 0.9758\n",
            "Epoch 5/30\n",
            "391/391 [==============================] - 2s 6ms/step - loss: 0.0408 - accuracy: 0.9881 - val_loss: 0.0883 - val_accuracy: 0.9762\n",
            "Epoch 6/30\n",
            "391/391 [==============================] - 2s 6ms/step - loss: 0.0312 - accuracy: 0.9908 - val_loss: 0.0792 - val_accuracy: 0.9787\n",
            "Epoch 7/30\n",
            "391/391 [==============================] - 2s 6ms/step - loss: 0.0231 - accuracy: 0.9933 - val_loss: 0.0804 - val_accuracy: 0.9792\n",
            "Epoch 8/30\n",
            "391/391 [==============================] - 2s 4ms/step - loss: 0.0178 - accuracy: 0.9946 - val_loss: 0.0754 - val_accuracy: 0.9809\n",
            "Epoch 9/30\n",
            "391/391 [==============================] - 1s 3ms/step - loss: 0.0136 - accuracy: 0.9963 - val_loss: 0.0765 - val_accuracy: 0.9810\n",
            "Epoch 10/30\n",
            "391/391 [==============================] - 1s 4ms/step - loss: 0.0102 - accuracy: 0.9974 - val_loss: 0.0806 - val_accuracy: 0.9809\n",
            "Epoch 11/30\n",
            "391/391 [==============================] - 1s 4ms/step - loss: 0.0076 - accuracy: 0.9980 - val_loss: 0.0809 - val_accuracy: 0.9812\n",
            "Epoch 12/30\n",
            "391/391 [==============================] - 1s 3ms/step - loss: 0.0062 - accuracy: 0.9983 - val_loss: 0.0951 - val_accuracy: 0.9795\n",
            "Epoch 13/30\n",
            "391/391 [==============================] - 1s 3ms/step - loss: 0.0043 - accuracy: 0.9988 - val_loss: 0.0905 - val_accuracy: 0.9811\n",
            "Epoch 14/30\n",
            "391/391 [==============================] - 1s 3ms/step - loss: 0.0037 - accuracy: 0.9991 - val_loss: 0.0947 - val_accuracy: 0.9805\n",
            "Epoch 15/30\n",
            "391/391 [==============================] - 1s 3ms/step - loss: 0.0026 - accuracy: 0.9994 - val_loss: 0.0940 - val_accuracy: 0.9803\n",
            "Epoch 16/30\n",
            "391/391 [==============================] - 1s 4ms/step - loss: 0.0023 - accuracy: 0.9994 - val_loss: 0.0932 - val_accuracy: 0.9819\n",
            "Epoch 17/30\n",
            "391/391 [==============================] - 1s 3ms/step - loss: 0.0016 - accuracy: 0.9997 - val_loss: 0.1093 - val_accuracy: 0.9805\n",
            "Epoch 18/30\n",
            "391/391 [==============================] - 1s 3ms/step - loss: 0.0012 - accuracy: 0.9997 - val_loss: 0.1114 - val_accuracy: 0.9807\n",
            "Epoch 19/30\n",
            "391/391 [==============================] - 1s 4ms/step - loss: 0.0012 - accuracy: 0.9997 - val_loss: 0.1026 - val_accuracy: 0.9825\n",
            "Epoch 20/30\n",
            "391/391 [==============================] - 2s 4ms/step - loss: 9.1096e-04 - accuracy: 0.9997 - val_loss: 0.1063 - val_accuracy: 0.9823\n",
            "Epoch 21/30\n",
            "391/391 [==============================] - 1s 4ms/step - loss: 6.7695e-04 - accuracy: 0.9999 - val_loss: 0.1192 - val_accuracy: 0.9815\n",
            "Epoch 22/30\n",
            "391/391 [==============================] - 1s 4ms/step - loss: 6.4694e-04 - accuracy: 0.9998 - val_loss: 0.1204 - val_accuracy: 0.9810\n",
            "Epoch 23/30\n",
            "391/391 [==============================] - 1s 3ms/step - loss: 3.5317e-04 - accuracy: 1.0000 - val_loss: 0.1180 - val_accuracy: 0.9822\n",
            "Epoch 24/30\n",
            "391/391 [==============================] - 1s 4ms/step - loss: 4.0876e-04 - accuracy: 0.9999 - val_loss: 0.1237 - val_accuracy: 0.9825\n",
            "Epoch 25/30\n",
            "391/391 [==============================] - 1s 3ms/step - loss: 3.1175e-04 - accuracy: 0.9999 - val_loss: 0.1253 - val_accuracy: 0.9826\n",
            "Epoch 26/30\n",
            "391/391 [==============================] - 1s 3ms/step - loss: 2.1865e-04 - accuracy: 0.9999 - val_loss: 0.1438 - val_accuracy: 0.9804\n",
            "Epoch 27/30\n",
            "391/391 [==============================] - 1s 3ms/step - loss: 1.3162e-04 - accuracy: 1.0000 - val_loss: 0.1388 - val_accuracy: 0.9813\n",
            "Epoch 28/30\n",
            "391/391 [==============================] - 1s 3ms/step - loss: 2.0054e-04 - accuracy: 0.9999 - val_loss: 0.1332 - val_accuracy: 0.9825\n",
            "Epoch 29/30\n",
            "391/391 [==============================] - 1s 3ms/step - loss: 2.9086e-04 - accuracy: 0.9999 - val_loss: 0.1314 - val_accuracy: 0.9829\n",
            "Epoch 30/30\n",
            "391/391 [==============================] - 1s 3ms/step - loss: 1.1853e-04 - accuracy: 1.0000 - val_loss: 0.1382 - val_accuracy: 0.9832\n"
          ]
        }
      ]
    },
    {
      "cell_type": "markdown",
      "source": [
        "### Caso 1: Con regularizador l1"
      ],
      "metadata": {
        "id": "pw6iBGO5Bg8J"
      }
    },
    {
      "cell_type": "code",
      "source": [
        "network1 = crea_modelo(1)"
      ],
      "metadata": {
        "id": "D6JPtw5zCz-1",
        "colab": {
          "base_uri": "https://localhost:8080/"
        },
        "outputId": "86a6a62c-837f-4b82-f721-79be3cfcc02a"
      },
      "execution_count": 14,
      "outputs": [
        {
          "output_type": "stream",
          "name": "stdout",
          "text": [
            "Model: \"sequential_1\"\n",
            "_________________________________________________________________\n",
            " Layer (type)                Output Shape              Param #   \n",
            "=================================================================\n",
            " dense_2 (Dense)             (None, 512)               401920    \n",
            "                                                                 \n",
            " dense_3 (Dense)             (None, 10)                5130      \n",
            "                                                                 \n",
            "=================================================================\n",
            "Total params: 407,050\n",
            "Trainable params: 407,050\n",
            "Non-trainable params: 0\n",
            "_________________________________________________________________\n"
          ]
        }
      ]
    },
    {
      "cell_type": "code",
      "source": [
        "network1 = compila_modelo(network1)"
      ],
      "metadata": {
        "id": "zL3Gp7wvFRq3"
      },
      "execution_count": 15,
      "outputs": []
    },
    {
      "cell_type": "code",
      "source": [
        "historia1 = entrena_modelo(network1)"
      ],
      "metadata": {
        "id": "G2FG1Z4xFW72",
        "colab": {
          "base_uri": "https://localhost:8080/"
        },
        "outputId": "ebf27359-f0d4-4e05-a2ca-55d6d26db074"
      },
      "execution_count": 16,
      "outputs": [
        {
          "output_type": "stream",
          "name": "stdout",
          "text": [
            "Epoch 1/30\n",
            "391/391 [==============================] - 2s 4ms/step - loss: 2.1304 - accuracy: 0.8443 - val_loss: 1.0905 - val_accuracy: 0.8521\n",
            "Epoch 2/30\n",
            "391/391 [==============================] - 2s 4ms/step - loss: 0.9692 - accuracy: 0.8787 - val_loss: 0.9589 - val_accuracy: 0.8777\n",
            "Epoch 3/30\n",
            "391/391 [==============================] - 2s 4ms/step - loss: 0.8465 - accuracy: 0.8980 - val_loss: 0.8240 - val_accuracy: 0.9095\n",
            "Epoch 4/30\n",
            "391/391 [==============================] - 2s 4ms/step - loss: 0.7694 - accuracy: 0.9130 - val_loss: 0.7282 - val_accuracy: 0.9229\n",
            "Epoch 5/30\n",
            "391/391 [==============================] - 2s 4ms/step - loss: 0.7225 - accuracy: 0.9211 - val_loss: 0.6690 - val_accuracy: 0.9375\n",
            "Epoch 6/30\n",
            "391/391 [==============================] - 2s 4ms/step - loss: 0.6833 - accuracy: 0.9282 - val_loss: 0.6340 - val_accuracy: 0.9470\n",
            "Epoch 7/30\n",
            "391/391 [==============================] - 2s 4ms/step - loss: 0.6543 - accuracy: 0.9338 - val_loss: 0.6349 - val_accuracy: 0.9385\n",
            "Epoch 8/30\n",
            "391/391 [==============================] - 1s 4ms/step - loss: 0.6288 - accuracy: 0.9372 - val_loss: 0.5893 - val_accuracy: 0.9477\n",
            "Epoch 9/30\n",
            "391/391 [==============================] - 2s 4ms/step - loss: 0.6077 - accuracy: 0.9426 - val_loss: 0.5902 - val_accuracy: 0.9472\n",
            "Epoch 10/30\n",
            "391/391 [==============================] - 1s 4ms/step - loss: 0.5906 - accuracy: 0.9442 - val_loss: 0.5767 - val_accuracy: 0.9512\n",
            "Epoch 11/30\n",
            "391/391 [==============================] - 1s 3ms/step - loss: 0.5788 - accuracy: 0.9455 - val_loss: 0.5519 - val_accuracy: 0.9533\n",
            "Epoch 12/30\n",
            "391/391 [==============================] - 1s 4ms/step - loss: 0.5668 - accuracy: 0.9482 - val_loss: 0.5893 - val_accuracy: 0.9362\n",
            "Epoch 13/30\n",
            "391/391 [==============================] - 2s 4ms/step - loss: 0.5595 - accuracy: 0.9486 - val_loss: 0.5456 - val_accuracy: 0.9513\n",
            "Epoch 14/30\n",
            "391/391 [==============================] - 2s 4ms/step - loss: 0.5500 - accuracy: 0.9503 - val_loss: 0.5343 - val_accuracy: 0.9548\n",
            "Epoch 15/30\n",
            "391/391 [==============================] - 1s 3ms/step - loss: 0.5431 - accuracy: 0.9518 - val_loss: 0.5748 - val_accuracy: 0.9420\n",
            "Epoch 16/30\n",
            "391/391 [==============================] - 1s 3ms/step - loss: 0.5380 - accuracy: 0.9524 - val_loss: 0.5208 - val_accuracy: 0.9583\n",
            "Epoch 17/30\n",
            "391/391 [==============================] - 1s 3ms/step - loss: 0.5324 - accuracy: 0.9537 - val_loss: 0.5281 - val_accuracy: 0.9549\n",
            "Epoch 18/30\n",
            "391/391 [==============================] - 1s 4ms/step - loss: 0.5267 - accuracy: 0.9531 - val_loss: 0.5448 - val_accuracy: 0.9494\n",
            "Epoch 19/30\n",
            "391/391 [==============================] - 1s 3ms/step - loss: 0.5227 - accuracy: 0.9546 - val_loss: 0.5509 - val_accuracy: 0.9469\n",
            "Epoch 20/30\n",
            "391/391 [==============================] - 1s 4ms/step - loss: 0.5187 - accuracy: 0.9550 - val_loss: 0.5069 - val_accuracy: 0.9610\n",
            "Epoch 21/30\n",
            "391/391 [==============================] - 1s 4ms/step - loss: 0.5155 - accuracy: 0.9558 - val_loss: 0.5333 - val_accuracy: 0.9508\n",
            "Epoch 22/30\n",
            "391/391 [==============================] - 1s 4ms/step - loss: 0.5107 - accuracy: 0.9570 - val_loss: 0.5083 - val_accuracy: 0.9604\n",
            "Epoch 23/30\n",
            "391/391 [==============================] - 2s 4ms/step - loss: 0.5081 - accuracy: 0.9562 - val_loss: 0.5002 - val_accuracy: 0.9601\n",
            "Epoch 24/30\n",
            "391/391 [==============================] - 2s 4ms/step - loss: 0.5045 - accuracy: 0.9565 - val_loss: 0.4953 - val_accuracy: 0.9622\n",
            "Epoch 25/30\n",
            "391/391 [==============================] - 1s 4ms/step - loss: 0.5008 - accuracy: 0.9583 - val_loss: 0.4824 - val_accuracy: 0.9636\n",
            "Epoch 26/30\n",
            "391/391 [==============================] - 1s 3ms/step - loss: 0.4985 - accuracy: 0.9567 - val_loss: 0.5073 - val_accuracy: 0.9551\n",
            "Epoch 27/30\n",
            "391/391 [==============================] - 1s 4ms/step - loss: 0.4955 - accuracy: 0.9573 - val_loss: 0.4844 - val_accuracy: 0.9617\n",
            "Epoch 28/30\n",
            "391/391 [==============================] - 1s 4ms/step - loss: 0.4935 - accuracy: 0.9581 - val_loss: 0.4748 - val_accuracy: 0.9664\n",
            "Epoch 29/30\n",
            "391/391 [==============================] - 2s 4ms/step - loss: 0.4916 - accuracy: 0.9588 - val_loss: 0.4775 - val_accuracy: 0.9642\n",
            "Epoch 30/30\n",
            "391/391 [==============================] - 2s 4ms/step - loss: 0.4886 - accuracy: 0.9592 - val_loss: 0.5491 - val_accuracy: 0.9421\n"
          ]
        }
      ]
    },
    {
      "cell_type": "markdown",
      "source": [
        "### Caso 2: Con regularizador l2"
      ],
      "metadata": {
        "id": "hklwKNlMBzya"
      }
    },
    {
      "cell_type": "code",
      "source": [
        "network2 = crea_modelo(2)"
      ],
      "metadata": {
        "id": "tjIs0FziG5Ja",
        "colab": {
          "base_uri": "https://localhost:8080/"
        },
        "outputId": "20ff006b-8fb2-4240-ef03-28d9a968538b"
      },
      "execution_count": 17,
      "outputs": [
        {
          "output_type": "stream",
          "name": "stdout",
          "text": [
            "Model: \"sequential_2\"\n",
            "_________________________________________________________________\n",
            " Layer (type)                Output Shape              Param #   \n",
            "=================================================================\n",
            " dense_4 (Dense)             (None, 512)               401920    \n",
            "                                                                 \n",
            " dense_5 (Dense)             (None, 10)                5130      \n",
            "                                                                 \n",
            "=================================================================\n",
            "Total params: 407,050\n",
            "Trainable params: 407,050\n",
            "Non-trainable params: 0\n",
            "_________________________________________________________________\n"
          ]
        }
      ]
    },
    {
      "cell_type": "code",
      "source": [
        "network2 = compila_modelo(network2)"
      ],
      "metadata": {
        "id": "UCdA0K_qyTUq"
      },
      "execution_count": 18,
      "outputs": []
    },
    {
      "cell_type": "code",
      "source": [
        "historia2 = entrena_modelo(network2)"
      ],
      "metadata": {
        "id": "WSuomx5oybpu",
        "colab": {
          "base_uri": "https://localhost:8080/"
        },
        "outputId": "b894cdcb-58f6-4d26-db9c-e257f149e01b"
      },
      "execution_count": 19,
      "outputs": [
        {
          "output_type": "stream",
          "name": "stdout",
          "text": [
            "Epoch 1/30\n",
            "391/391 [==============================] - 2s 4ms/step - loss: 0.5281 - accuracy: 0.9112 - val_loss: 0.3815 - val_accuracy: 0.9246\n",
            "Epoch 2/30\n",
            "391/391 [==============================] - 1s 4ms/step - loss: 0.2651 - accuracy: 0.9534 - val_loss: 0.2208 - val_accuracy: 0.9627\n",
            "Epoch 3/30\n",
            "391/391 [==============================] - 1s 4ms/step - loss: 0.2118 - accuracy: 0.9624 - val_loss: 0.2073 - val_accuracy: 0.9615\n",
            "Epoch 4/30\n",
            "391/391 [==============================] - 2s 4ms/step - loss: 0.1867 - accuracy: 0.9673 - val_loss: 0.1816 - val_accuracy: 0.9676\n",
            "Epoch 5/30\n",
            "391/391 [==============================] - 2s 4ms/step - loss: 0.1748 - accuracy: 0.9695 - val_loss: 0.1691 - val_accuracy: 0.9719\n",
            "Epoch 6/30\n",
            "391/391 [==============================] - 1s 3ms/step - loss: 0.1644 - accuracy: 0.9718 - val_loss: 0.1826 - val_accuracy: 0.9670\n",
            "Epoch 7/30\n",
            "391/391 [==============================] - 1s 3ms/step - loss: 0.1586 - accuracy: 0.9728 - val_loss: 0.1743 - val_accuracy: 0.9704\n",
            "Epoch 8/30\n",
            "391/391 [==============================] - 1s 4ms/step - loss: 0.1521 - accuracy: 0.9743 - val_loss: 0.1809 - val_accuracy: 0.9673\n",
            "Epoch 9/30\n",
            "391/391 [==============================] - 1s 4ms/step - loss: 0.1493 - accuracy: 0.9735 - val_loss: 0.1807 - val_accuracy: 0.9667\n",
            "Epoch 10/30\n",
            "391/391 [==============================] - 1s 3ms/step - loss: 0.1448 - accuracy: 0.9761 - val_loss: 0.1599 - val_accuracy: 0.9724\n",
            "Epoch 11/30\n",
            "391/391 [==============================] - 2s 4ms/step - loss: 0.1412 - accuracy: 0.9757 - val_loss: 0.1519 - val_accuracy: 0.9738\n",
            "Epoch 12/30\n",
            "391/391 [==============================] - 2s 4ms/step - loss: 0.1366 - accuracy: 0.9771 - val_loss: 0.1551 - val_accuracy: 0.9727\n",
            "Epoch 13/30\n",
            "391/391 [==============================] - 2s 4ms/step - loss: 0.1352 - accuracy: 0.9764 - val_loss: 0.1405 - val_accuracy: 0.9757\n",
            "Epoch 14/30\n",
            "391/391 [==============================] - 1s 4ms/step - loss: 0.1322 - accuracy: 0.9770 - val_loss: 0.1905 - val_accuracy: 0.9608\n",
            "Epoch 15/30\n",
            "391/391 [==============================] - 2s 4ms/step - loss: 0.1293 - accuracy: 0.9779 - val_loss: 0.1450 - val_accuracy: 0.9736\n",
            "Epoch 16/30\n",
            "391/391 [==============================] - 1s 3ms/step - loss: 0.1265 - accuracy: 0.9783 - val_loss: 0.2060 - val_accuracy: 0.9532\n",
            "Epoch 17/30\n",
            "391/391 [==============================] - 1s 4ms/step - loss: 0.1250 - accuracy: 0.9793 - val_loss: 0.1632 - val_accuracy: 0.9697\n",
            "Epoch 18/30\n",
            "391/391 [==============================] - 2s 4ms/step - loss: 0.1238 - accuracy: 0.9791 - val_loss: 0.1487 - val_accuracy: 0.9710\n",
            "Epoch 19/30\n",
            "391/391 [==============================] - 1s 4ms/step - loss: 0.1220 - accuracy: 0.9797 - val_loss: 0.1636 - val_accuracy: 0.9669\n",
            "Epoch 20/30\n",
            "391/391 [==============================] - 1s 3ms/step - loss: 0.1205 - accuracy: 0.9797 - val_loss: 0.1476 - val_accuracy: 0.9712\n",
            "Epoch 21/30\n",
            "391/391 [==============================] - 1s 4ms/step - loss: 0.1199 - accuracy: 0.9801 - val_loss: 0.1430 - val_accuracy: 0.9751\n",
            "Epoch 22/30\n",
            "391/391 [==============================] - 2s 4ms/step - loss: 0.1178 - accuracy: 0.9801 - val_loss: 0.1325 - val_accuracy: 0.9780\n",
            "Epoch 23/30\n",
            "391/391 [==============================] - 2s 4ms/step - loss: 0.1161 - accuracy: 0.9814 - val_loss: 0.1497 - val_accuracy: 0.9702\n",
            "Epoch 24/30\n",
            "391/391 [==============================] - 1s 4ms/step - loss: 0.1144 - accuracy: 0.9816 - val_loss: 0.1428 - val_accuracy: 0.9730\n",
            "Epoch 25/30\n",
            "391/391 [==============================] - 2s 4ms/step - loss: 0.1144 - accuracy: 0.9804 - val_loss: 0.1457 - val_accuracy: 0.9732\n",
            "Epoch 26/30\n",
            "391/391 [==============================] - 2s 4ms/step - loss: 0.1111 - accuracy: 0.9822 - val_loss: 0.1310 - val_accuracy: 0.9772\n",
            "Epoch 27/30\n",
            "391/391 [==============================] - 1s 3ms/step - loss: 0.1115 - accuracy: 0.9820 - val_loss: 0.1567 - val_accuracy: 0.9695\n",
            "Epoch 28/30\n",
            "391/391 [==============================] - 1s 3ms/step - loss: 0.1089 - accuracy: 0.9816 - val_loss: 0.1342 - val_accuracy: 0.9766\n",
            "Epoch 29/30\n",
            "391/391 [==============================] - 1s 3ms/step - loss: 0.1094 - accuracy: 0.9815 - val_loss: 0.1826 - val_accuracy: 0.9631\n",
            "Epoch 30/30\n",
            "391/391 [==============================] - 1s 3ms/step - loss: 0.1072 - accuracy: 0.9828 - val_loss: 0.1510 - val_accuracy: 0.9735\n"
          ]
        }
      ]
    },
    {
      "cell_type": "markdown",
      "source": [
        "### Caso 3: Con regularizador l1_l2"
      ],
      "metadata": {
        "id": "692oWz8oB82n"
      }
    },
    {
      "cell_type": "code",
      "source": [
        "network3 = crea_modelo(3)"
      ],
      "metadata": {
        "id": "5fdxkjoKzFcu",
        "colab": {
          "base_uri": "https://localhost:8080/"
        },
        "outputId": "6f114118-37e5-4d2d-fefc-4688ee48b6f8"
      },
      "execution_count": 20,
      "outputs": [
        {
          "output_type": "stream",
          "name": "stdout",
          "text": [
            "Model: \"sequential_3\"\n",
            "_________________________________________________________________\n",
            " Layer (type)                Output Shape              Param #   \n",
            "=================================================================\n",
            " dense_6 (Dense)             (None, 512)               401920    \n",
            "                                                                 \n",
            " dense_7 (Dense)             (None, 10)                5130      \n",
            "                                                                 \n",
            "=================================================================\n",
            "Total params: 407,050\n",
            "Trainable params: 407,050\n",
            "Non-trainable params: 0\n",
            "_________________________________________________________________\n"
          ]
        }
      ]
    },
    {
      "cell_type": "code",
      "source": [
        "network3 = compila_modelo(network3)"
      ],
      "metadata": {
        "id": "VJzs9A2yzPhx"
      },
      "execution_count": 21,
      "outputs": []
    },
    {
      "cell_type": "code",
      "source": [
        "historia3 = entrena_modelo(network3)"
      ],
      "metadata": {
        "id": "1JCUbcCQzY6E",
        "colab": {
          "base_uri": "https://localhost:8080/"
        },
        "outputId": "a7198685-5aa1-43b6-bb0f-ffe86ce4723d"
      },
      "execution_count": 22,
      "outputs": [
        {
          "output_type": "stream",
          "name": "stdout",
          "text": [
            "Epoch 1/30\n",
            "391/391 [==============================] - 2s 4ms/step - loss: 2.1433 - accuracy: 0.8421 - val_loss: 1.0044 - val_accuracy: 0.8895\n",
            "Epoch 2/30\n",
            "391/391 [==============================] - 1s 4ms/step - loss: 0.9838 - accuracy: 0.8754 - val_loss: 0.9341 - val_accuracy: 0.8777\n",
            "Epoch 3/30\n",
            "391/391 [==============================] - 1s 3ms/step - loss: 0.8660 - accuracy: 0.8968 - val_loss: 0.7828 - val_accuracy: 0.9170\n",
            "Epoch 4/30\n",
            "391/391 [==============================] - 2s 4ms/step - loss: 0.7889 - accuracy: 0.9112 - val_loss: 0.7456 - val_accuracy: 0.9254\n",
            "Epoch 5/30\n",
            "391/391 [==============================] - 1s 4ms/step - loss: 0.7381 - accuracy: 0.9191 - val_loss: 0.6847 - val_accuracy: 0.9320\n",
            "Epoch 6/30\n",
            "391/391 [==============================] - 1s 3ms/step - loss: 0.7023 - accuracy: 0.9262 - val_loss: 0.6997 - val_accuracy: 0.9316\n",
            "Epoch 7/30\n",
            "391/391 [==============================] - 1s 3ms/step - loss: 0.6714 - accuracy: 0.9310 - val_loss: 0.6428 - val_accuracy: 0.9401\n",
            "Epoch 8/30\n",
            "391/391 [==============================] - 1s 4ms/step - loss: 0.6484 - accuracy: 0.9351 - val_loss: 0.6744 - val_accuracy: 0.9245\n",
            "Epoch 9/30\n",
            "391/391 [==============================] - 2s 4ms/step - loss: 0.6292 - accuracy: 0.9385 - val_loss: 0.6023 - val_accuracy: 0.9485\n",
            "Epoch 10/30\n",
            "391/391 [==============================] - 1s 3ms/step - loss: 0.6157 - accuracy: 0.9406 - val_loss: 0.5787 - val_accuracy: 0.9551\n",
            "Epoch 11/30\n",
            "391/391 [==============================] - 2s 4ms/step - loss: 0.5995 - accuracy: 0.9432 - val_loss: 0.5715 - val_accuracy: 0.9518\n",
            "Epoch 12/30\n",
            "391/391 [==============================] - 1s 4ms/step - loss: 0.5875 - accuracy: 0.9442 - val_loss: 0.5512 - val_accuracy: 0.9567\n",
            "Epoch 13/30\n",
            "391/391 [==============================] - 1s 4ms/step - loss: 0.5797 - accuracy: 0.9463 - val_loss: 0.5485 - val_accuracy: 0.9560\n",
            "Epoch 14/30\n",
            "391/391 [==============================] - 1s 4ms/step - loss: 0.5698 - accuracy: 0.9476 - val_loss: 0.5548 - val_accuracy: 0.9528\n",
            "Epoch 15/30\n",
            "391/391 [==============================] - 1s 4ms/step - loss: 0.5626 - accuracy: 0.9489 - val_loss: 0.5361 - val_accuracy: 0.9554\n",
            "Epoch 16/30\n",
            "391/391 [==============================] - 2s 4ms/step - loss: 0.5543 - accuracy: 0.9498 - val_loss: 0.5481 - val_accuracy: 0.9548\n",
            "Epoch 17/30\n",
            "391/391 [==============================] - 1s 4ms/step - loss: 0.5482 - accuracy: 0.9514 - val_loss: 0.5303 - val_accuracy: 0.9546\n",
            "Epoch 18/30\n",
            "391/391 [==============================] - 1s 4ms/step - loss: 0.5425 - accuracy: 0.9520 - val_loss: 0.5084 - val_accuracy: 0.9618\n",
            "Epoch 19/30\n",
            "391/391 [==============================] - 1s 3ms/step - loss: 0.5379 - accuracy: 0.9533 - val_loss: 0.5646 - val_accuracy: 0.9485\n",
            "Epoch 20/30\n",
            "391/391 [==============================] - 2s 4ms/step - loss: 0.5335 - accuracy: 0.9532 - val_loss: 0.5971 - val_accuracy: 0.9344\n",
            "Epoch 21/30\n",
            "391/391 [==============================] - 1s 4ms/step - loss: 0.5278 - accuracy: 0.9546 - val_loss: 0.5407 - val_accuracy: 0.9553\n",
            "Epoch 22/30\n",
            "391/391 [==============================] - 2s 4ms/step - loss: 0.5252 - accuracy: 0.9539 - val_loss: 0.5169 - val_accuracy: 0.9574\n",
            "Epoch 23/30\n",
            "391/391 [==============================] - 2s 4ms/step - loss: 0.5203 - accuracy: 0.9557 - val_loss: 0.5424 - val_accuracy: 0.9500\n",
            "Epoch 24/30\n",
            "391/391 [==============================] - 1s 4ms/step - loss: 0.5165 - accuracy: 0.9562 - val_loss: 0.5643 - val_accuracy: 0.9432\n",
            "Epoch 25/30\n",
            "391/391 [==============================] - 2s 4ms/step - loss: 0.5137 - accuracy: 0.9562 - val_loss: 0.5137 - val_accuracy: 0.9561\n",
            "Epoch 26/30\n",
            "391/391 [==============================] - 2s 4ms/step - loss: 0.5119 - accuracy: 0.9564 - val_loss: 0.5158 - val_accuracy: 0.9553\n",
            "Epoch 27/30\n",
            "391/391 [==============================] - 2s 4ms/step - loss: 0.5098 - accuracy: 0.9564 - val_loss: 0.5095 - val_accuracy: 0.9597\n",
            "Epoch 28/30\n",
            "391/391 [==============================] - 1s 3ms/step - loss: 0.5066 - accuracy: 0.9574 - val_loss: 0.6022 - val_accuracy: 0.9267\n",
            "Epoch 29/30\n",
            "391/391 [==============================] - 2s 4ms/step - loss: 0.5046 - accuracy: 0.9573 - val_loss: 0.4961 - val_accuracy: 0.9607\n",
            "Epoch 30/30\n",
            "391/391 [==============================] - 2s 4ms/step - loss: 0.5021 - accuracy: 0.9580 - val_loss: 0.4878 - val_accuracy: 0.9646\n"
          ]
        }
      ]
    },
    {
      "cell_type": "markdown",
      "source": [
        "### Caso 4: Con Droput"
      ],
      "metadata": {
        "id": "OPVcbgcXCFRL"
      }
    },
    {
      "cell_type": "code",
      "source": [
        "network4 = crea_modelo(4)"
      ],
      "metadata": {
        "id": "5MVbUNX11Pgr",
        "colab": {
          "base_uri": "https://localhost:8080/"
        },
        "outputId": "bdd188c7-21aa-46ea-9868-f5f03d6ad4f3"
      },
      "execution_count": 23,
      "outputs": [
        {
          "output_type": "stream",
          "name": "stdout",
          "text": [
            "Model: \"sequential_4\"\n",
            "_________________________________________________________________\n",
            " Layer (type)                Output Shape              Param #   \n",
            "=================================================================\n",
            " dense_8 (Dense)             (None, 512)               401920    \n",
            "                                                                 \n",
            " dropout (Dropout)           (None, 512)               0         \n",
            "                                                                 \n",
            " dense_9 (Dense)             (None, 10)                5130      \n",
            "                                                                 \n",
            "=================================================================\n",
            "Total params: 407,050\n",
            "Trainable params: 407,050\n",
            "Non-trainable params: 0\n",
            "_________________________________________________________________\n"
          ]
        }
      ]
    },
    {
      "cell_type": "code",
      "source": [
        "network4 = compila_modelo(network4)"
      ],
      "metadata": {
        "id": "pT-13IKI1UpW"
      },
      "execution_count": 24,
      "outputs": []
    },
    {
      "cell_type": "code",
      "source": [
        "historia4 = entrena_modelo(network4)"
      ],
      "metadata": {
        "id": "kNWidx1S1aCH",
        "colab": {
          "base_uri": "https://localhost:8080/"
        },
        "outputId": "0bd0d450-d1cf-42b5-cab9-b7d904a891a8"
      },
      "execution_count": 25,
      "outputs": [
        {
          "output_type": "stream",
          "name": "stdout",
          "text": [
            "Epoch 1/30\n",
            "391/391 [==============================] - 2s 4ms/step - loss: 0.3423 - accuracy: 0.8990 - val_loss: 0.1530 - val_accuracy: 0.9574\n",
            "Epoch 2/30\n",
            "391/391 [==============================] - 1s 3ms/step - loss: 0.1673 - accuracy: 0.9504 - val_loss: 0.1179 - val_accuracy: 0.9661\n",
            "Epoch 3/30\n",
            "391/391 [==============================] - 1s 3ms/step - loss: 0.1278 - accuracy: 0.9619 - val_loss: 0.0976 - val_accuracy: 0.9708\n",
            "Epoch 4/30\n",
            "391/391 [==============================] - 1s 4ms/step - loss: 0.1046 - accuracy: 0.9686 - val_loss: 0.0891 - val_accuracy: 0.9724\n",
            "Epoch 5/30\n",
            "391/391 [==============================] - 1s 3ms/step - loss: 0.0941 - accuracy: 0.9717 - val_loss: 0.0859 - val_accuracy: 0.9766\n",
            "Epoch 6/30\n",
            "391/391 [==============================] - 1s 3ms/step - loss: 0.0830 - accuracy: 0.9757 - val_loss: 0.0848 - val_accuracy: 0.9764\n",
            "Epoch 7/30\n",
            "391/391 [==============================] - 2s 4ms/step - loss: 0.0761 - accuracy: 0.9775 - val_loss: 0.0791 - val_accuracy: 0.9780\n",
            "Epoch 8/30\n",
            "391/391 [==============================] - 1s 3ms/step - loss: 0.0704 - accuracy: 0.9793 - val_loss: 0.0785 - val_accuracy: 0.9784\n",
            "Epoch 9/30\n",
            "391/391 [==============================] - 1s 3ms/step - loss: 0.0647 - accuracy: 0.9807 - val_loss: 0.0774 - val_accuracy: 0.9798\n",
            "Epoch 10/30\n",
            "391/391 [==============================] - 1s 3ms/step - loss: 0.0591 - accuracy: 0.9821 - val_loss: 0.0794 - val_accuracy: 0.9789\n",
            "Epoch 11/30\n",
            "391/391 [==============================] - 1s 3ms/step - loss: 0.0579 - accuracy: 0.9827 - val_loss: 0.0827 - val_accuracy: 0.9794\n",
            "Epoch 12/30\n",
            "391/391 [==============================] - 1s 3ms/step - loss: 0.0525 - accuracy: 0.9840 - val_loss: 0.0778 - val_accuracy: 0.9814\n",
            "Epoch 13/30\n",
            "391/391 [==============================] - 1s 4ms/step - loss: 0.0508 - accuracy: 0.9854 - val_loss: 0.0783 - val_accuracy: 0.9808\n",
            "Epoch 14/30\n",
            "391/391 [==============================] - 1s 3ms/step - loss: 0.0501 - accuracy: 0.9855 - val_loss: 0.0767 - val_accuracy: 0.9816\n",
            "Epoch 15/30\n",
            "391/391 [==============================] - 1s 4ms/step - loss: 0.0450 - accuracy: 0.9862 - val_loss: 0.0781 - val_accuracy: 0.9815\n",
            "Epoch 16/30\n",
            "391/391 [==============================] - 1s 3ms/step - loss: 0.0445 - accuracy: 0.9868 - val_loss: 0.0784 - val_accuracy: 0.9814\n",
            "Epoch 17/30\n",
            "391/391 [==============================] - 1s 3ms/step - loss: 0.0390 - accuracy: 0.9875 - val_loss: 0.0806 - val_accuracy: 0.9826\n",
            "Epoch 18/30\n",
            "391/391 [==============================] - 1s 3ms/step - loss: 0.0384 - accuracy: 0.9886 - val_loss: 0.0836 - val_accuracy: 0.9814\n",
            "Epoch 19/30\n",
            "391/391 [==============================] - 1s 3ms/step - loss: 0.0379 - accuracy: 0.9881 - val_loss: 0.0825 - val_accuracy: 0.9812\n",
            "Epoch 20/30\n",
            "391/391 [==============================] - 1s 3ms/step - loss: 0.0365 - accuracy: 0.9889 - val_loss: 0.0824 - val_accuracy: 0.9820\n",
            "Epoch 21/30\n",
            "391/391 [==============================] - 1s 4ms/step - loss: 0.0354 - accuracy: 0.9894 - val_loss: 0.0856 - val_accuracy: 0.9813\n",
            "Epoch 22/30\n",
            "391/391 [==============================] - 1s 3ms/step - loss: 0.0336 - accuracy: 0.9899 - val_loss: 0.0850 - val_accuracy: 0.9829\n",
            "Epoch 23/30\n",
            "391/391 [==============================] - 1s 3ms/step - loss: 0.0334 - accuracy: 0.9899 - val_loss: 0.0868 - val_accuracy: 0.9821\n",
            "Epoch 24/30\n",
            "391/391 [==============================] - 1s 3ms/step - loss: 0.0307 - accuracy: 0.9909 - val_loss: 0.0922 - val_accuracy: 0.9824\n",
            "Epoch 25/30\n",
            "391/391 [==============================] - 1s 3ms/step - loss: 0.0288 - accuracy: 0.9907 - val_loss: 0.0874 - val_accuracy: 0.9815\n",
            "Epoch 26/30\n",
            "391/391 [==============================] - 1s 3ms/step - loss: 0.0305 - accuracy: 0.9907 - val_loss: 0.0905 - val_accuracy: 0.9825\n",
            "Epoch 27/30\n",
            "391/391 [==============================] - 1s 3ms/step - loss: 0.0296 - accuracy: 0.9910 - val_loss: 0.0959 - val_accuracy: 0.9817\n",
            "Epoch 28/30\n",
            "391/391 [==============================] - 2s 4ms/step - loss: 0.0305 - accuracy: 0.9911 - val_loss: 0.0969 - val_accuracy: 0.9814\n",
            "Epoch 29/30\n",
            "391/391 [==============================] - 1s 4ms/step - loss: 0.0286 - accuracy: 0.9915 - val_loss: 0.0929 - val_accuracy: 0.9815\n",
            "Epoch 30/30\n",
            "391/391 [==============================] - 1s 3ms/step - loss: 0.0276 - accuracy: 0.9919 - val_loss: 0.1004 - val_accuracy: 0.9819\n"
          ]
        }
      ]
    },
    {
      "cell_type": "markdown",
      "source": [
        "### Caso 5: Error de código de regularizador"
      ],
      "metadata": {
        "id": "e6rlKx2nCOgU"
      }
    },
    {
      "cell_type": "code",
      "source": [
        "network5 = crea_modelo(5)"
      ],
      "metadata": {
        "id": "SqGDm8VM1rwR",
        "outputId": "a8560041-0b66-4ca0-c476-2d5177c1c7e3",
        "colab": {
          "base_uri": "https://localhost:8080/",
          "height": 328
        }
      },
      "execution_count": 26,
      "outputs": [
        {
          "output_type": "stream",
          "name": "stdout",
          "text": [
            "Error\n"
          ]
        },
        {
          "output_type": "error",
          "ename": "ValueError",
          "evalue": "ignored",
          "traceback": [
            "\u001b[0;31m---------------------------------------------------------------------------\u001b[0m",
            "\u001b[0;31mValueError\u001b[0m                                Traceback (most recent call last)",
            "\u001b[0;32m<ipython-input-26-23863d6b79b8>\u001b[0m in \u001b[0;36m<module>\u001b[0;34m\u001b[0m\n\u001b[0;32m----> 1\u001b[0;31m \u001b[0mnetwork5\u001b[0m \u001b[0;34m=\u001b[0m \u001b[0mcrea_modelo\u001b[0m\u001b[0;34m(\u001b[0m\u001b[0;36m5\u001b[0m\u001b[0;34m)\u001b[0m\u001b[0;34m\u001b[0m\u001b[0;34m\u001b[0m\u001b[0m\n\u001b[0m",
            "\u001b[0;32m<ipython-input-6-f3da95841da8>\u001b[0m in \u001b[0;36mcrea_modelo\u001b[0;34m(regularizador)\u001b[0m\n\u001b[1;32m     16\u001b[0m \u001b[0;34m\u001b[0m\u001b[0m\n\u001b[1;32m     17\u001b[0m   \u001b[0mmodelo\u001b[0m\u001b[0;34m.\u001b[0m\u001b[0madd\u001b[0m\u001b[0;34m(\u001b[0m\u001b[0mlayers\u001b[0m\u001b[0;34m.\u001b[0m\u001b[0mDense\u001b[0m\u001b[0;34m(\u001b[0m\u001b[0;36m10\u001b[0m\u001b[0;34m,\u001b[0m \u001b[0mactivation\u001b[0m\u001b[0;34m=\u001b[0m\u001b[0;34m'softmax'\u001b[0m\u001b[0;34m)\u001b[0m\u001b[0;34m)\u001b[0m\u001b[0;34m\u001b[0m\u001b[0;34m\u001b[0m\u001b[0m\n\u001b[0;32m---> 18\u001b[0;31m   \u001b[0mmodelo\u001b[0m\u001b[0;34m.\u001b[0m\u001b[0msummary\u001b[0m\u001b[0;34m(\u001b[0m\u001b[0;34m)\u001b[0m\u001b[0;34m\u001b[0m\u001b[0;34m\u001b[0m\u001b[0m\n\u001b[0m\u001b[1;32m     19\u001b[0m   \u001b[0;32mreturn\u001b[0m \u001b[0mmodelo\u001b[0m\u001b[0;34m\u001b[0m\u001b[0;34m\u001b[0m\u001b[0m\n\u001b[1;32m     20\u001b[0m \u001b[0;34m\u001b[0m\u001b[0m\n",
            "\u001b[0;32m/usr/local/lib/python3.7/dist-packages/keras/engine/training.py\u001b[0m in \u001b[0;36msummary\u001b[0;34m(self, line_length, positions, print_fn, expand_nested, show_trainable)\u001b[0m\n\u001b[1;32m   2868\u001b[0m     \u001b[0;32mif\u001b[0m \u001b[0;32mnot\u001b[0m \u001b[0mself\u001b[0m\u001b[0;34m.\u001b[0m\u001b[0mbuilt\u001b[0m\u001b[0;34m:\u001b[0m\u001b[0;34m\u001b[0m\u001b[0;34m\u001b[0m\u001b[0m\n\u001b[1;32m   2869\u001b[0m       raise ValueError(\n\u001b[0;32m-> 2870\u001b[0;31m           \u001b[0;34m'This model has not yet been built. '\u001b[0m\u001b[0;34m\u001b[0m\u001b[0;34m\u001b[0m\u001b[0m\n\u001b[0m\u001b[1;32m   2871\u001b[0m           \u001b[0;34m'Build the model first by calling `build()` or by calling '\u001b[0m\u001b[0;34m\u001b[0m\u001b[0;34m\u001b[0m\u001b[0m\n\u001b[1;32m   2872\u001b[0m           'the model on a batch of data.')\n",
            "\u001b[0;31mValueError\u001b[0m: This model has not yet been built. Build the model first by calling `build()` or by calling the model on a batch of data."
          ]
        }
      ]
    },
    {
      "cell_type": "markdown",
      "source": [
        "###GRÁFICAS"
      ],
      "metadata": {
        "id": "dIR9oce_t_2n"
      }
    },
    {
      "cell_type": "code",
      "source": [
        "pinta_perdida_entrenamiento_validacion(historia0)\n",
        "pinta_perdida_entrenamiento_validacion(historia1)\n",
        "pinta_perdida_entrenamiento_validacion(historia2)\n",
        "pinta_perdida_entrenamiento_validacion(historia3)\n",
        "pinta_perdida_entrenamiento_validacion(historia4)"
      ],
      "metadata": {
        "id": "GIhtx40aXfPm",
        "outputId": "78f2dddc-63d8-40ca-bbf2-ab53dddaca00",
        "colab": {
          "base_uri": "https://localhost:8080/",
          "height": 235
        }
      },
      "execution_count": 1,
      "outputs": [
        {
          "output_type": "error",
          "ename": "NameError",
          "evalue": "ignored",
          "traceback": [
            "\u001b[0;31m---------------------------------------------------------------------------\u001b[0m",
            "\u001b[0;31mNameError\u001b[0m                                 Traceback (most recent call last)",
            "\u001b[0;32m<ipython-input-1-90226ba787e1>\u001b[0m in \u001b[0;36m<module>\u001b[0;34m\u001b[0m\n\u001b[0;32m----> 1\u001b[0;31m \u001b[0mpinta_perdida_entrenamiento_validacion\u001b[0m\u001b[0;34m(\u001b[0m\u001b[0mhistoria0\u001b[0m\u001b[0;34m)\u001b[0m\u001b[0;34m\u001b[0m\u001b[0;34m\u001b[0m\u001b[0m\n\u001b[0m\u001b[1;32m      2\u001b[0m \u001b[0mpinta_perdida_entrenamiento_validacion\u001b[0m\u001b[0;34m(\u001b[0m\u001b[0mhistoria1\u001b[0m\u001b[0;34m)\u001b[0m\u001b[0;34m\u001b[0m\u001b[0;34m\u001b[0m\u001b[0m\n\u001b[1;32m      3\u001b[0m \u001b[0mpinta_perdida_entrenamiento_validacion\u001b[0m\u001b[0;34m(\u001b[0m\u001b[0mhistoria2\u001b[0m\u001b[0;34m)\u001b[0m\u001b[0;34m\u001b[0m\u001b[0;34m\u001b[0m\u001b[0m\n\u001b[1;32m      4\u001b[0m \u001b[0mpinta_perdida_entrenamiento_validacion\u001b[0m\u001b[0;34m(\u001b[0m\u001b[0mhistoria3\u001b[0m\u001b[0;34m)\u001b[0m\u001b[0;34m\u001b[0m\u001b[0;34m\u001b[0m\u001b[0m\n\u001b[1;32m      5\u001b[0m \u001b[0mpinta_perdida_entrenamiento_validacion\u001b[0m\u001b[0;34m(\u001b[0m\u001b[0mhistoria4\u001b[0m\u001b[0;34m)\u001b[0m\u001b[0;34m\u001b[0m\u001b[0;34m\u001b[0m\u001b[0m\n",
            "\u001b[0;31mNameError\u001b[0m: name 'pinta_perdida_entrenamiento_validacion' is not defined"
          ]
        }
      ]
    },
    {
      "cell_type": "code",
      "source": [
        "pinta_precision_entrenamiento_validacion(historia0)\n",
        "pinta_precision_entrenamiento_validacion(historia1)\n",
        "pinta_precision_entrenamiento_validacion(historia2)\n",
        "pinta_precision_entrenamiento_validacion(historia3)\n",
        "pinta_precision_entrenamiento_validacion(historia4)"
      ],
      "metadata": {
        "id": "vsJKge6yX5P5",
        "outputId": "2caa4f12-f0f4-4886-8532-8e7d25f405bc",
        "colab": {
          "base_uri": "https://localhost:8080/",
          "height": 1000
        }
      },
      "execution_count": 28,
      "outputs": [
        {
          "output_type": "display_data",
          "data": {
            "text/plain": [
              "<Figure size 432x288 with 1 Axes>"
            ],
            "image/png": "[encoded data removed]"
          },
          "metadata": {
            "needs_background": "light"
          }
        },
        {
          "output_type": "display_data",
          "data": {
            "text/plain": [
              "<Figure size 432x288 with 1 Axes>"
            ],
            "image/png": "[encoded data removed]"
          },
          "metadata": {
            "needs_background": "light"
          }
        },
        {
          "output_type": "display_data",
          "data": {
            "text/plain": [
              "<Figure size 432x288 with 1 Axes>"
            ],
            "image/png": "[encoded data removed]"
          },
          "metadata": {
            "needs_background": "light"
          }
        },
        {
          "output_type": "display_data",
          "data": {
            "text/plain": [
              "<Figure size 432x288 with 1 Axes>"
            ],
            "image/png": "[encoded data removed]"
          },
          "metadata": {
            "needs_background": "light"
          }
        },
        {
          "output_type": "display_data",
          "data": {
            "text/plain": [
              "<Figure size 432x288 with 1 Axes>"
            ],
            "image/png": "[encoded data removed]"
          },
          "metadata": {
            "needs_background": "light"
          }
        }
      ]
    },
    {
      "cell_type": "markdown",
      "source": [
        "### CONCLUSIONES"
      ],
      "metadata": {
        "id": "IklUu29cCcVe"
      }
    },
    {
      "cell_type": "markdown",
      "source": [
        "Todos los modelos obtienen una precisión entorno al 96%, en cuánto a las pérdidas si hay diferencias entre unos modelos. Entonces, el modelo que mejor resulta en este caso es el cuarto con regularizador dropout, es en el que obtenemos la mayor precisión, consiguiendo un 99%. El segundo mejor, es el tercer modelo con el regularizador L2 consiguiendo un 10% de pérdida y 98% de precisión y le sigue"
      ],
      "metadata": {
        "id": "cB_OYjjaChzN"
      }
    }
  ]
}